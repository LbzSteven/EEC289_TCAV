{
 "cells": [
  {
   "cell_type": "markdown",
   "id": "f165bdd5-cef2-410d-8aef-2b56e20f3589",
   "metadata": {},
   "source": [
    "# import"
   ]
  },
  {
   "cell_type": "code",
   "execution_count": null,
   "id": "87ead8ad-9880-40ac-b1c2-1f8f3ba78b75",
   "metadata": {},
   "outputs": [],
   "source": [
    "import os, glob\n",
    "import time\n",
    "\n",
    "import numpy as np\n",
    "import pandas as pd\n",
    "\n",
    "import matplotlib.pyplot as plt\n",
    "from PIL import Image\n",
    "from scipy.stats import ttest_ind\n",
    "\n",
    "import torch\n",
    "import torch.nn as nn\n",
    "import torch.nn.functional as F\n",
    "from torch.utils.data import DataLoader\n",
    "from torch.utils.data import Dataset\n",
    "from torchvision import datasets\n",
    "from torchvision import transforms\n",
    "\n",
    "#.... Captum imports..................\n",
    "from captum.attr import LayerGradientXActivation, LayerIntegratedGradients\n",
    "\n",
    "from captum.concept import TCAV\n",
    "from captum.concept import Concept\n",
    "\n",
    "from captum.concept._utils.data_iterator import dataset_to_dataloader, CustomIterableDataset\n",
    "from captum.concept._utils.common import concepts_to_str\n",
    "\n",
    "if torch.cuda.is_available():\n",
    "    torch.backends.cudnn.deterministic = True"
   ]
  },
  {
   "cell_type": "markdown",
   "id": "096c02a7-4c4d-4611-a8c3-8675de34f12b",
   "metadata": {},
   "source": [
    "# ResNet-34 for MNIST"
   ]
  },
  {
   "cell_type": "markdown",
   "id": "b2b3d990-a04f-4583-9f62-9c7d14279c01",
   "metadata": {},
   "source": [
    "## Model Settings"
   ]
  },
  {
   "cell_type": "code",
   "execution_count": null,
   "id": "d60e00e7-cb0a-4dc7-a3e1-32a561b246cf",
   "metadata": {},
   "outputs": [],
   "source": [
    "##########################\n",
    "### SETTINGS\n",
    "##########################\n",
    "\n",
    "# Hyperparameters\n",
    "RANDOM_SEED = 42\n",
    "LEARNING_RATE = 0.001\n",
    "BATCH_SIZE = 128\n",
    "NUM_EPOCHS = 10\n",
    "\n",
    "# Architecture\n",
    "NUM_FEATURES = 28*28\n",
    "NUM_CLASSES = 10\n",
    "\n",
    "# Other\n",
    "DEVICE = \"cuda:1\"\n",
    "GRAYSCALE = True"
   ]
  },
  {
   "cell_type": "markdown",
   "id": "6f58f23e-d16e-4c7d-ae1e-5c44b6cd8bc7",
   "metadata": {},
   "source": [
    "## MNIST Dataset"
   ]
  },
  {
   "cell_type": "code",
   "execution_count": null,
   "id": "0ae2038b-5a8a-45e6-a77e-7f1b3d7c4248",
   "metadata": {},
   "outputs": [],
   "source": [
    "##########################\n",
    "### MNIST DATASET\n",
    "##########################\n",
    "\n",
    "# Note transforms.ToTensor() scales input images\n",
    "# to 0-1 range\n",
    "train_dataset = datasets.MNIST(root='data', \n",
    "                               train=True, \n",
    "                               transform=transforms.ToTensor(),\n",
    "                               download=True)\n",
    "\n",
    "test_dataset = datasets.MNIST(root='data', \n",
    "                              train=False, \n",
    "                              transform=transforms.ToTensor())\n",
    "\n",
    "\n",
    "train_loader = DataLoader(dataset=train_dataset, \n",
    "                          batch_size=BATCH_SIZE, \n",
    "                          shuffle=True)\n",
    "\n",
    "test_loader = DataLoader(dataset=test_dataset, \n",
    "                         batch_size=BATCH_SIZE, \n",
    "                         shuffle=False)\n",
    "\n",
    "# Checking the dataset\n",
    "for images, labels in train_loader:  \n",
    "    print('Image batch dimensions:', images.shape)\n",
    "    print('Image label dimensions:', labels.shape)\n",
    "    break"
   ]
  },
  {
   "cell_type": "markdown",
   "id": "12d763a8-e5b5-4627-9755-64b41605553e",
   "metadata": {},
   "source": [
    "## Model"
   ]
  },
  {
   "cell_type": "code",
   "execution_count": 4,
   "id": "9ae70f85-9c33-435d-b6c7-c93eb88db9ad",
   "metadata": {},
   "outputs": [],
   "source": [
    "##########################\n",
    "### MODEL\n",
    "##########################\n",
    "\n",
    "\n",
    "def conv3x3(in_planes, out_planes, stride=1):\n",
    "    \"\"\"3x3 convolution with padding\"\"\"\n",
    "    return nn.Conv2d(in_planes, out_planes, kernel_size=3, stride=stride,\n",
    "                     padding=1, bias=False)\n",
    "\n",
    "\n",
    "class BasicBlock(nn.Module):\n",
    "    expansion = 1\n",
    "\n",
    "    def __init__(self, inplanes, planes, stride=1, downsample=None):\n",
    "        super(BasicBlock, self).__init__()\n",
    "        self.conv1 = conv3x3(inplanes, planes, stride)\n",
    "        self.bn1 = nn.BatchNorm2d(planes)\n",
    "        self.relu = nn.ReLU(inplace=True)\n",
    "        self.conv2 = conv3x3(planes, planes)\n",
    "        self.bn2 = nn.BatchNorm2d(planes)\n",
    "        self.downsample = downsample\n",
    "        self.stride = stride\n",
    "\n",
    "    def forward(self, x):\n",
    "        residual = x\n",
    "\n",
    "        out = self.conv1(x)\n",
    "        out = self.bn1(out)\n",
    "        out = self.relu(out)\n",
    "\n",
    "        out = self.conv2(out)\n",
    "        out = self.bn2(out)\n",
    "\n",
    "        if self.downsample is not None:\n",
    "            residual = self.downsample(x)\n",
    "\n",
    "        out += residual\n",
    "        out = self.relu(out)\n",
    "\n",
    "        return out\n",
    "\n",
    "class ResNet(nn.Module):\n",
    "\n",
    "    def __init__(self, block, layers, num_classes, grayscale):\n",
    "        self.inplanes = 64\n",
    "        if grayscale:\n",
    "            in_dim = 1\n",
    "        else:\n",
    "            in_dim = 3\n",
    "        super(ResNet, self).__init__()\n",
    "        self.conv1 = nn.Conv2d(in_dim, 64, kernel_size=7, stride=2, padding=3,\n",
    "                               bias=False)\n",
    "        self.bn1 = nn.BatchNorm2d(64)\n",
    "        self.relu = nn.ReLU(inplace=True)\n",
    "        self.maxpool = nn.MaxPool2d(kernel_size=3, stride=2, padding=1)\n",
    "        self.layer1 = self._make_layer(block, 64, layers[0])\n",
    "        self.layer2 = self._make_layer(block, 128, layers[1], stride=2)\n",
    "        self.layer3 = self._make_layer(block, 256, layers[2], stride=2)\n",
    "        self.layer4 = self._make_layer(block, 512, layers[3], stride=2)\n",
    "        self.avgpool = nn.AvgPool2d(7, stride=1)\n",
    "        self.fc = nn.Linear(512 * block.expansion, num_classes)\n",
    "\n",
    "        for m in self.modules():\n",
    "            if isinstance(m, nn.Conv2d):\n",
    "                n = m.kernel_size[0] * m.kernel_size[1] * m.out_channels\n",
    "                m.weight.data.normal_(0, (2. / n)**.5)\n",
    "            elif isinstance(m, nn.BatchNorm2d):\n",
    "                m.weight.data.fill_(1)\n",
    "                m.bias.data.zero_()\n",
    "\n",
    "    def _make_layer(self, block, planes, blocks, stride=1):\n",
    "        downsample = None\n",
    "        if stride != 1 or self.inplanes != planes * block.expansion:\n",
    "            downsample = nn.Sequential(\n",
    "                nn.Conv2d(self.inplanes, planes * block.expansion,\n",
    "                          kernel_size=1, stride=stride, bias=False),\n",
    "                nn.BatchNorm2d(planes * block.expansion),\n",
    "            )\n",
    "\n",
    "        layers = []\n",
    "        layers.append(block(self.inplanes, planes, stride, downsample))\n",
    "        self.inplanes = planes * block.expansion\n",
    "        for i in range(1, blocks):\n",
    "            layers.append(block(self.inplanes, planes))\n",
    "\n",
    "        return nn.Sequential(*layers)\n",
    "\n",
    "    def forward(self, x):\n",
    "        x = self.conv1(x)\n",
    "        x = self.bn1(x)\n",
    "        x = self.relu(x)\n",
    "        x = self.maxpool(x)\n",
    "\n",
    "        x = self.layer1(x)\n",
    "        x = self.layer2(x)\n",
    "        x = self.layer3(x)\n",
    "        x = self.layer4(x)\n",
    "        # because MNIST is already 1x1 here:\n",
    "        # disable avg pooling\n",
    "        #x = self.avgpool(x)\n",
    "        \n",
    "        x = x.view(x.size(0), -1)\n",
    "        logits = self.fc(x)\n",
    "        probas = F.softmax(logits, dim=1)\n",
    "        return logits, probas\n",
    "\n",
    "\n",
    "\n",
    "def resnet18(num_classes):\n",
    "    \"\"\"Constructs a ResNet-18 model.\"\"\"\n",
    "    model = ResNet(block=BasicBlock, \n",
    "                   layers=[2, 2, 2, 2],\n",
    "                   num_classes=NUM_CLASSES,\n",
    "                   grayscale=GRAYSCALE)\n",
    "    return model"
   ]
  },
  {
   "cell_type": "code",
   "execution_count": 5,
   "id": "8fd878a2-aaf6-4c31-bbc2-dcdc8c5a3445",
   "metadata": {},
   "outputs": [],
   "source": [
    "torch.manual_seed(RANDOM_SEED)\n",
    "\n",
    "model = resnet18(NUM_CLASSES)\n",
    "model.to(DEVICE)\n",
    "\n",
    "optimizer = torch.optim.Adam(model.parameters(), lr=LEARNING_RATE)  "
   ]
  },
  {
   "cell_type": "markdown",
   "id": "b8c7a205-aff5-45a8-95a1-13b590bdf33e",
   "metadata": {},
   "source": [
    "## Training"
   ]
  },
  {
   "cell_type": "code",
   "execution_count": 10,
   "id": "8b9f191e-12c0-4911-a5b9-38ea06c4e08c",
   "metadata": {},
   "outputs": [
    {
     "name": "stdout",
     "output_type": "stream",
     "text": [
      "Epoch: 001/010 | Batch 0000/0469 | Cost: 0.0076\n",
      "Epoch: 001/010 | Batch 0050/0469 | Cost: 0.0005\n",
      "Epoch: 001/010 | Batch 0100/0469 | Cost: 0.0007\n",
      "Epoch: 001/010 | Batch 0150/0469 | Cost: 0.0700\n",
      "Epoch: 001/010 | Batch 0200/0469 | Cost: 0.0094\n",
      "Epoch: 001/010 | Batch 0250/0469 | Cost: 0.0999\n",
      "Epoch: 001/010 | Batch 0300/0469 | Cost: 0.0014\n",
      "Epoch: 001/010 | Batch 0350/0469 | Cost: 0.0131\n",
      "Epoch: 001/010 | Batch 0400/0469 | Cost: 0.0120\n",
      "Epoch: 001/010 | Batch 0450/0469 | Cost: 0.0008\n",
      "Epoch: 001/010 | Train: 99.633%\n",
      "Time elapsed: 0.56 min\n",
      "Epoch: 002/010 | Batch 0000/0469 | Cost: 0.0006\n",
      "Epoch: 002/010 | Batch 0050/0469 | Cost: 0.0215\n",
      "Epoch: 002/010 | Batch 0100/0469 | Cost: 0.0030\n",
      "Epoch: 002/010 | Batch 0150/0469 | Cost: 0.0250\n",
      "Epoch: 002/010 | Batch 0200/0469 | Cost: 0.0006\n",
      "Epoch: 002/010 | Batch 0250/0469 | Cost: 0.0085\n",
      "Epoch: 002/010 | Batch 0300/0469 | Cost: 0.0072\n",
      "Epoch: 002/010 | Batch 0350/0469 | Cost: 0.0023\n",
      "Epoch: 002/010 | Batch 0400/0469 | Cost: 0.0280\n",
      "Epoch: 002/010 | Batch 0450/0469 | Cost: 0.0019\n",
      "Epoch: 002/010 | Train: 99.038%\n",
      "Time elapsed: 1.10 min\n",
      "Epoch: 003/010 | Batch 0000/0469 | Cost: 0.0696\n",
      "Epoch: 003/010 | Batch 0050/0469 | Cost: 0.0227\n",
      "Epoch: 003/010 | Batch 0100/0469 | Cost: 0.0044\n",
      "Epoch: 003/010 | Batch 0150/0469 | Cost: 0.0003\n",
      "Epoch: 003/010 | Batch 0200/0469 | Cost: 0.0536\n",
      "Epoch: 003/010 | Batch 0250/0469 | Cost: 0.0130\n",
      "Epoch: 003/010 | Batch 0300/0469 | Cost: 0.0008\n",
      "Epoch: 003/010 | Batch 0350/0469 | Cost: 0.0192\n",
      "Epoch: 003/010 | Batch 0400/0469 | Cost: 0.0338\n",
      "Epoch: 003/010 | Batch 0450/0469 | Cost: 0.0398\n",
      "Epoch: 003/010 | Train: 99.613%\n",
      "Time elapsed: 1.58 min\n",
      "Epoch: 004/010 | Batch 0000/0469 | Cost: 0.0047\n",
      "Epoch: 004/010 | Batch 0050/0469 | Cost: 0.0014\n",
      "Epoch: 004/010 | Batch 0100/0469 | Cost: 0.0238\n",
      "Epoch: 004/010 | Batch 0150/0469 | Cost: 0.0003\n",
      "Epoch: 004/010 | Batch 0200/0469 | Cost: 0.0010\n",
      "Epoch: 004/010 | Batch 0250/0469 | Cost: 0.0005\n",
      "Epoch: 004/010 | Batch 0300/0469 | Cost: 0.0106\n",
      "Epoch: 004/010 | Batch 0350/0469 | Cost: 0.0363\n",
      "Epoch: 004/010 | Batch 0400/0469 | Cost: 0.0131\n",
      "Epoch: 004/010 | Batch 0450/0469 | Cost: 0.0026\n",
      "Epoch: 004/010 | Train: 99.758%\n",
      "Time elapsed: 2.05 min\n",
      "Epoch: 005/010 | Batch 0000/0469 | Cost: 0.0020\n",
      "Epoch: 005/010 | Batch 0050/0469 | Cost: 0.0080\n",
      "Epoch: 005/010 | Batch 0100/0469 | Cost: 0.0010\n",
      "Epoch: 005/010 | Batch 0150/0469 | Cost: 0.0693\n",
      "Epoch: 005/010 | Batch 0200/0469 | Cost: 0.0025\n",
      "Epoch: 005/010 | Batch 0250/0469 | Cost: 0.0012\n",
      "Epoch: 005/010 | Batch 0300/0469 | Cost: 0.0001\n",
      "Epoch: 005/010 | Batch 0350/0469 | Cost: 0.0013\n",
      "Epoch: 005/010 | Batch 0400/0469 | Cost: 0.0359\n",
      "Epoch: 005/010 | Batch 0450/0469 | Cost: 0.0099\n",
      "Epoch: 005/010 | Train: 99.802%\n",
      "Time elapsed: 2.57 min\n",
      "Epoch: 006/010 | Batch 0000/0469 | Cost: 0.0012\n",
      "Epoch: 006/010 | Batch 0050/0469 | Cost: 0.0032\n",
      "Epoch: 006/010 | Batch 0100/0469 | Cost: 0.0001\n",
      "Epoch: 006/010 | Batch 0150/0469 | Cost: 0.0022\n",
      "Epoch: 006/010 | Batch 0200/0469 | Cost: 0.0052\n",
      "Epoch: 006/010 | Batch 0250/0469 | Cost: 0.0001\n",
      "Epoch: 006/010 | Batch 0300/0469 | Cost: 0.0242\n",
      "Epoch: 006/010 | Batch 0350/0469 | Cost: 0.0006\n",
      "Epoch: 006/010 | Batch 0400/0469 | Cost: 0.0023\n",
      "Epoch: 006/010 | Batch 0450/0469 | Cost: 0.0401\n",
      "Epoch: 006/010 | Train: 99.617%\n",
      "Time elapsed: 3.15 min\n",
      "Epoch: 007/010 | Batch 0000/0469 | Cost: 0.0092\n",
      "Epoch: 007/010 | Batch 0050/0469 | Cost: 0.0057\n",
      "Epoch: 007/010 | Batch 0100/0469 | Cost: 0.0001\n",
      "Epoch: 007/010 | Batch 0150/0469 | Cost: 0.0009\n",
      "Epoch: 007/010 | Batch 0200/0469 | Cost: 0.0004\n",
      "Epoch: 007/010 | Batch 0250/0469 | Cost: 0.0026\n",
      "Epoch: 007/010 | Batch 0300/0469 | Cost: 0.0043\n",
      "Epoch: 007/010 | Batch 0350/0469 | Cost: 0.0064\n",
      "Epoch: 007/010 | Batch 0400/0469 | Cost: 0.0004\n",
      "Epoch: 007/010 | Batch 0450/0469 | Cost: 0.0002\n",
      "Epoch: 007/010 | Train: 99.672%\n",
      "Time elapsed: 3.72 min\n",
      "Epoch: 008/010 | Batch 0000/0469 | Cost: 0.0008\n",
      "Epoch: 008/010 | Batch 0050/0469 | Cost: 0.0284\n",
      "Epoch: 008/010 | Batch 0100/0469 | Cost: 0.0002\n",
      "Epoch: 008/010 | Batch 0150/0469 | Cost: 0.0024\n",
      "Epoch: 008/010 | Batch 0200/0469 | Cost: 0.0038\n",
      "Epoch: 008/010 | Batch 0250/0469 | Cost: 0.0131\n",
      "Epoch: 008/010 | Batch 0300/0469 | Cost: 0.0580\n",
      "Epoch: 008/010 | Batch 0350/0469 | Cost: 0.0003\n",
      "Epoch: 008/010 | Batch 0400/0469 | Cost: 0.0056\n",
      "Epoch: 008/010 | Batch 0450/0469 | Cost: 0.0005\n",
      "Epoch: 008/010 | Train: 99.422%\n",
      "Time elapsed: 4.19 min\n",
      "Epoch: 009/010 | Batch 0000/0469 | Cost: 0.0002\n",
      "Epoch: 009/010 | Batch 0050/0469 | Cost: 0.0229\n",
      "Epoch: 009/010 | Batch 0100/0469 | Cost: 0.0004\n",
      "Epoch: 009/010 | Batch 0150/0469 | Cost: 0.0015\n",
      "Epoch: 009/010 | Batch 0200/0469 | Cost: 0.0003\n",
      "Epoch: 009/010 | Batch 0250/0469 | Cost: 0.0003\n",
      "Epoch: 009/010 | Batch 0300/0469 | Cost: 0.0071\n",
      "Epoch: 009/010 | Batch 0350/0469 | Cost: 0.0018\n",
      "Epoch: 009/010 | Batch 0400/0469 | Cost: 0.0305\n",
      "Epoch: 009/010 | Batch 0450/0469 | Cost: 0.0164\n",
      "Epoch: 009/010 | Train: 99.857%\n",
      "Time elapsed: 4.77 min\n",
      "Epoch: 010/010 | Batch 0000/0469 | Cost: 0.0138\n",
      "Epoch: 010/010 | Batch 0050/0469 | Cost: 0.0009\n",
      "Epoch: 010/010 | Batch 0100/0469 | Cost: 0.0009\n",
      "Epoch: 010/010 | Batch 0150/0469 | Cost: 0.0001\n",
      "Epoch: 010/010 | Batch 0200/0469 | Cost: 0.0081\n",
      "Epoch: 010/010 | Batch 0250/0469 | Cost: 0.0001\n",
      "Epoch: 010/010 | Batch 0300/0469 | Cost: 0.0007\n",
      "Epoch: 010/010 | Batch 0350/0469 | Cost: 0.0001\n",
      "Epoch: 010/010 | Batch 0400/0469 | Cost: 0.0005\n",
      "Epoch: 010/010 | Batch 0450/0469 | Cost: 0.0020\n",
      "Epoch: 010/010 | Train: 99.743%\n",
      "Time elapsed: 5.41 min\n",
      "Total Training Time: 5.41 min\n"
     ]
    }
   ],
   "source": [
    "def compute_accuracy(model, data_loader, device):\n",
    "    correct_pred, num_examples = 0, 0\n",
    "    for i, (features, targets) in enumerate(data_loader):\n",
    "            \n",
    "        features = features.to(device)\n",
    "        targets = targets.to(device)\n",
    "\n",
    "        logits, probas = model(features)\n",
    "        _, predicted_labels = torch.max(probas, 1)\n",
    "        num_examples += targets.size(0)\n",
    "        correct_pred += (predicted_labels == targets).sum()\n",
    "    return correct_pred.float()/num_examples * 100\n",
    "    \n",
    "\n",
    "start_time = time.time()\n",
    "for epoch in range(NUM_EPOCHS):\n",
    "    \n",
    "    model.train()\n",
    "    for batch_idx, (features, targets) in enumerate(train_loader):\n",
    "        \n",
    "        features = features.to(DEVICE)\n",
    "        targets = targets.to(DEVICE)\n",
    "            \n",
    "        ### FORWARD AND BACK PROP\n",
    "        logits, probas = model(features)\n",
    "        cost = F.cross_entropy(logits, targets)\n",
    "        optimizer.zero_grad()\n",
    "        \n",
    "        cost.backward()\n",
    "        \n",
    "        ### UPDATE MODEL PARAMETERS\n",
    "        optimizer.step()\n",
    "        \n",
    "        ### LOGGING\n",
    "        if not batch_idx % 50:\n",
    "            print ('Epoch: %03d/%03d | Batch %04d/%04d | Cost: %.4f' \n",
    "                   %(epoch+1, NUM_EPOCHS, batch_idx, \n",
    "                     len(train_loader), cost))\n",
    "\n",
    "        \n",
    "\n",
    "    model.eval()\n",
    "    with torch.set_grad_enabled(False): # save memory during inference\n",
    "        print('Epoch: %03d/%03d | Train: %.3f%%' % (\n",
    "              epoch+1, NUM_EPOCHS, \n",
    "              compute_accuracy(model, train_loader, device=DEVICE)))\n",
    "        \n",
    "    print('Time elapsed: %.2f min' % ((time.time() - start_time)/60))\n",
    "    \n",
    "print('Total Training Time: %.2f min' % ((time.time() - start_time)/60))"
   ]
  },
  {
   "cell_type": "markdown",
   "id": "d79cfb9c-c3b2-41e7-a17a-6d26492146a6",
   "metadata": {},
   "source": [
    "## Eval"
   ]
  },
  {
   "cell_type": "code",
   "execution_count": 11,
   "id": "6b719318-e190-4195-94a9-a8c64d766bb5",
   "metadata": {},
   "outputs": [
    {
     "name": "stdout",
     "output_type": "stream",
     "text": [
      "Test accuracy: 99.27%\n"
     ]
    }
   ],
   "source": [
    "with torch.set_grad_enabled(False): # save memory during inference\n",
    "    print('Test accuracy: %.2f%%' % (compute_accuracy(model, test_loader, device=DEVICE)))"
   ]
  },
  {
   "cell_type": "code",
   "execution_count": 12,
   "id": "fe4f2531-1325-45c3-a00c-2a8011aaaf83",
   "metadata": {},
   "outputs": [
    {
     "data": {
      "image/png": "[encoded data removed]",
      "text/plain": [
       "<Figure size 640x480 with 1 Axes>"
      ]
     },
     "metadata": {},
     "output_type": "display_data"
    }
   ],
   "source": [
    "for batch_idx, (features, targets) in enumerate(test_loader):\n",
    "\n",
    "    features = features\n",
    "    targets = targets\n",
    "    break\n",
    "    \n",
    "    \n",
    "nhwc_img = np.transpose(features[0], axes=(1, 2, 0))\n",
    "nhw_img = np.squeeze(nhwc_img.numpy(), axis=2)\n",
    "plt.imshow(nhw_img, cmap='Greys');"
   ]
  },
  {
   "cell_type": "code",
   "execution_count": 16,
   "id": "c07e18a8-90c2-481b-baae-2724f94d246b",
   "metadata": {},
   "outputs": [
    {
     "name": "stdout",
     "output_type": "stream",
     "text": [
      "Probability 7 100.00%\n"
     ]
    }
   ],
   "source": [
    "model.eval()\n",
    "logits, probas = model(features.to('cuda:1')[0, None])\n",
    "print('Probability 7 %.2f%%' % (probas[0][7]*100))"
   ]
  },
  {
   "cell_type": "markdown",
   "id": "30f8fb9a-0df3-46a2-922e-0ff06b8dc442",
   "metadata": {},
   "source": [
    "## save resnet"
   ]
  },
  {
   "cell_type": "code",
   "execution_count": 17,
   "id": "253a9d83-3824-4c1a-91a4-a7c51d0bb902",
   "metadata": {},
   "outputs": [],
   "source": [
    "torch.save(model.state_dict(), 'resnet.pth')"
   ]
  },
  {
   "cell_type": "markdown",
   "id": "832358bc-5195-4ec2-8df3-848f9fc32c01",
   "metadata": {},
   "source": [
    "# TCAV"
   ]
  },
  {
   "cell_type": "markdown",
   "id": "a270b8e3-703c-4f9e-86dd-38da8131fa13",
   "metadata": {},
   "source": [
    "## load concept"
   ]
  },
  {
   "cell_type": "code",
   "execution_count": 82,
   "id": "a12b5fce-c48d-4419-b2d0-833bfbf1a161",
   "metadata": {},
   "outputs": [
    {
     "data": {
      "text/plain": [
       "<matplotlib.image.AxesImage at 0x7f0c7c32a150>"
      ]
     },
     "execution_count": 82,
     "metadata": {},
     "output_type": "execute_result"
    },
    {
     "data": {
      "image/png": "[encoded data removed]",
      "text/plain": [
       "<Figure size 640x480 with 1 Axes>"
      ]
     },
     "metadata": {},
     "output_type": "display_data"
    }
   ],
   "source": [
    "import numpy as np\n",
    "import pandas as pd\n",
    "import matplotlib.pyplot as plt\n",
    "\n",
    "FILES = ['concept_circle.csv', 'concept_diag_tl_br.csv', 'concept_diag_tr_bl.csv', 'concept_vertical.csv', 'concept_horizontal.csv']\n",
    "IMAGE_SHAPE = (1,28, 28)\n",
    "\n",
    "datasets = []\n",
    "labels = [f.rstrip('.csv').lstrip('concept_') for f in FILES]\n",
    "\n",
    "for f in FILES:\n",
    "    df = pd.read_csv(f)\n",
    "    images = df.to_numpy()\n",
    "    images = images.reshape(images.shape[0], *IMAGE_SHAPE)\n",
    "    data_tensor = torch.tensor(images, dtype=torch.float32)\n",
    "    datasets.append(data_tensor)\n",
    "    \n",
    "plt.imshow(datasets[0][0][0], cmap='gray', vmin=0, vmax=255)"
   ]
  },
  {
   "cell_type": "code",
   "execution_count": 95,
   "id": "f41b7230-2d9e-40d0-b006-c712e5ab600b",
   "metadata": {},
   "outputs": [],
   "source": [
    "dataset_dict ={}\n",
    "names=['concept_circle', 'concept_diag_tl_br', 'concept_diag_tr_bl', 'concept_vertical', 'concept_horizontal']\n",
    "for i in range(5):\n",
    "    dataset_dict[names[i]] = datasets[i]"
   ]
  },
  {
   "cell_type": "markdown",
   "id": "eaa6aa6e-8670-4142-86d9-a8f88d8769a4",
   "metadata": {},
   "source": [
    "## custom dataset"
   ]
  },
  {
   "cell_type": "code",
   "execution_count": 29,
   "id": "9d610c1c-3850-4f82-be99-9555694290eb",
   "metadata": {},
   "outputs": [],
   "source": [
    "class ConceptDataset(Dataset):\n",
    "    def __init__(self, data):\n",
    "        self.data = data\n",
    "\n",
    "    def __len__(self):\n",
    "        return len(self.data)\n",
    "\n",
    "    def __getitem__(self, idx):\n",
    "        image = self.data[idx]\n",
    "        return image"
   ]
  },
  {
   "cell_type": "code",
   "execution_count": 25,
   "id": "a684ed58-aa7b-4e1a-82ed-f5786fd7bf49",
   "metadata": {},
   "outputs": [
    {
     "data": {
      "text/plain": [
       "(50, 28, 28)"
      ]
     },
     "execution_count": 25,
     "metadata": {},
     "output_type": "execute_result"
    }
   ],
   "source": [
    "datasets[0].shape"
   ]
  },
  {
   "cell_type": "code",
   "execution_count": 32,
   "id": "75eb069a-0e76-44ae-9ef3-704467e3fee3",
   "metadata": {},
   "outputs": [],
   "source": [
    "def assemble_concept(name, id, data_tensor):\n",
    "    concept_dataset = ConceptDataset(data_tensor)\n",
    "    concept_iter = dataset_to_dataloader(concept_dataset)\n",
    "    return Concept(id=id, name=name, data_iter=concept_iter)"
   ]
  },
  {
   "cell_type": "code",
   "execution_count": 105,
   "id": "54b064cc-8f59-41d1-ba76-1728d49b9a19",
   "metadata": {},
   "outputs": [],
   "source": [
    "circle_concept = assemble_concept(\"concept_circle\", 0, data_tensor=datasets[0])\n",
    "diag_tl_br_concept = assemble_concept(\"concept_diag_tl_br\", 1, data_tensor=datasets[1])\n",
    "diag_tr_bl_concept = assemble_concept(\"concept_diag_tr_bl\", 2, data_tensor=datasets[2])\n",
    "vertical_concept = assemble_concept(\"concept_vertical\", 3, data_tensor=datasets[3])\n",
    "horizontal_concept = assemble_concept(\"concept_horizontal\", 4, data_tensor=datasets[4])"
   ]
  },
  {
   "cell_type": "code",
   "execution_count": 96,
   "id": "3e6abb36-8025-4a3d-bda2-e0821dc902a4",
   "metadata": {},
   "outputs": [
    {
     "data": {
      "image/png": "[encoded data removed]",
      "text/plain": [
       "<Figure size 2500x2000 with 30 Axes>"
      ]
     },
     "metadata": {},
     "output_type": "display_data"
    }
   ],
   "source": [
    "n_figs = 5\n",
    "n_concepts = 5\n",
    "\n",
    "fig, axs = plt.subplots(n_concepts, n_figs + 1, figsize = (25, 4 * n_concepts))\n",
    "\n",
    "row = 0\n",
    "for c, concept in dataset_dict.items():\n",
    "    for i in range(6):\n",
    "        if i == 0:\n",
    "            axs[row, i].text(1.0, 0.5, str(c.split('_')[1]), ha='right', va='center', family='sans-serif', size=24)\n",
    "        else:\n",
    "            axs[row, i].imshow(concept[i][0], cmap='gray', vmin=0, vmax=255)\n",
    "        axs[row, i].axis('off')\n",
    "    row +=1"
   ]
  },
  {
   "cell_type": "code",
   "execution_count": 60,
   "id": "cbc33229-8b34-4779-9c0c-9bd731e739b2",
   "metadata": {},
   "outputs": [
    {
     "data": {
      "text/plain": [
       "ResNet(\n",
       "  (conv1): Conv2d(1, 64, kernel_size=(7, 7), stride=(2, 2), padding=(3, 3), bias=False)\n",
       "  (bn1): BatchNorm2d(64, eps=1e-05, momentum=0.1, affine=True, track_running_stats=True)\n",
       "  (relu): ReLU(inplace=True)\n",
       "  (maxpool): MaxPool2d(kernel_size=3, stride=2, padding=1, dilation=1, ceil_mode=False)\n",
       "  (layer1): Sequential(\n",
       "    (0): BasicBlock(\n",
       "      (conv1): Conv2d(64, 64, kernel_size=(3, 3), stride=(1, 1), padding=(1, 1), bias=False)\n",
       "      (bn1): BatchNorm2d(64, eps=1e-05, momentum=0.1, affine=True, track_running_stats=True)\n",
       "      (relu): ReLU(inplace=True)\n",
       "      (conv2): Conv2d(64, 64, kernel_size=(3, 3), stride=(1, 1), padding=(1, 1), bias=False)\n",
       "      (bn2): BatchNorm2d(64, eps=1e-05, momentum=0.1, affine=True, track_running_stats=True)\n",
       "    )\n",
       "    (1): BasicBlock(\n",
       "      (conv1): Conv2d(64, 64, kernel_size=(3, 3), stride=(1, 1), padding=(1, 1), bias=False)\n",
       "      (bn1): BatchNorm2d(64, eps=1e-05, momentum=0.1, affine=True, track_running_stats=True)\n",
       "      (relu): ReLU(inplace=True)\n",
       "      (conv2): Conv2d(64, 64, kernel_size=(3, 3), stride=(1, 1), padding=(1, 1), bias=False)\n",
       "      (bn2): BatchNorm2d(64, eps=1e-05, momentum=0.1, affine=True, track_running_stats=True)\n",
       "    )\n",
       "  )\n",
       "  (layer2): Sequential(\n",
       "    (0): BasicBlock(\n",
       "      (conv1): Conv2d(64, 128, kernel_size=(3, 3), stride=(2, 2), padding=(1, 1), bias=False)\n",
       "      (bn1): BatchNorm2d(128, eps=1e-05, momentum=0.1, affine=True, track_running_stats=True)\n",
       "      (relu): ReLU(inplace=True)\n",
       "      (conv2): Conv2d(128, 128, kernel_size=(3, 3), stride=(1, 1), padding=(1, 1), bias=False)\n",
       "      (bn2): BatchNorm2d(128, eps=1e-05, momentum=0.1, affine=True, track_running_stats=True)\n",
       "      (downsample): Sequential(\n",
       "        (0): Conv2d(64, 128, kernel_size=(1, 1), stride=(2, 2), bias=False)\n",
       "        (1): BatchNorm2d(128, eps=1e-05, momentum=0.1, affine=True, track_running_stats=True)\n",
       "      )\n",
       "    )\n",
       "    (1): BasicBlock(\n",
       "      (conv1): Conv2d(128, 128, kernel_size=(3, 3), stride=(1, 1), padding=(1, 1), bias=False)\n",
       "      (bn1): BatchNorm2d(128, eps=1e-05, momentum=0.1, affine=True, track_running_stats=True)\n",
       "      (relu): ReLU(inplace=True)\n",
       "      (conv2): Conv2d(128, 128, kernel_size=(3, 3), stride=(1, 1), padding=(1, 1), bias=False)\n",
       "      (bn2): BatchNorm2d(128, eps=1e-05, momentum=0.1, affine=True, track_running_stats=True)\n",
       "    )\n",
       "  )\n",
       "  (layer3): Sequential(\n",
       "    (0): BasicBlock(\n",
       "      (conv1): Conv2d(128, 256, kernel_size=(3, 3), stride=(2, 2), padding=(1, 1), bias=False)\n",
       "      (bn1): BatchNorm2d(256, eps=1e-05, momentum=0.1, affine=True, track_running_stats=True)\n",
       "      (relu): ReLU(inplace=True)\n",
       "      (conv2): Conv2d(256, 256, kernel_size=(3, 3), stride=(1, 1), padding=(1, 1), bias=False)\n",
       "      (bn2): BatchNorm2d(256, eps=1e-05, momentum=0.1, affine=True, track_running_stats=True)\n",
       "      (downsample): Sequential(\n",
       "        (0): Conv2d(128, 256, kernel_size=(1, 1), stride=(2, 2), bias=False)\n",
       "        (1): BatchNorm2d(256, eps=1e-05, momentum=0.1, affine=True, track_running_stats=True)\n",
       "      )\n",
       "    )\n",
       "    (1): BasicBlock(\n",
       "      (conv1): Conv2d(256, 256, kernel_size=(3, 3), stride=(1, 1), padding=(1, 1), bias=False)\n",
       "      (bn1): BatchNorm2d(256, eps=1e-05, momentum=0.1, affine=True, track_running_stats=True)\n",
       "      (relu): ReLU(inplace=True)\n",
       "      (conv2): Conv2d(256, 256, kernel_size=(3, 3), stride=(1, 1), padding=(1, 1), bias=False)\n",
       "      (bn2): BatchNorm2d(256, eps=1e-05, momentum=0.1, affine=True, track_running_stats=True)\n",
       "    )\n",
       "  )\n",
       "  (layer4): Sequential(\n",
       "    (0): BasicBlock(\n",
       "      (conv1): Conv2d(256, 512, kernel_size=(3, 3), stride=(2, 2), padding=(1, 1), bias=False)\n",
       "      (bn1): BatchNorm2d(512, eps=1e-05, momentum=0.1, affine=True, track_running_stats=True)\n",
       "      (relu): ReLU(inplace=True)\n",
       "      (conv2): Conv2d(512, 512, kernel_size=(3, 3), stride=(1, 1), padding=(1, 1), bias=False)\n",
       "      (bn2): BatchNorm2d(512, eps=1e-05, momentum=0.1, affine=True, track_running_stats=True)\n",
       "      (downsample): Sequential(\n",
       "        (0): Conv2d(256, 512, kernel_size=(1, 1), stride=(2, 2), bias=False)\n",
       "        (1): BatchNorm2d(512, eps=1e-05, momentum=0.1, affine=True, track_running_stats=True)\n",
       "      )\n",
       "    )\n",
       "    (1): BasicBlock(\n",
       "      (conv1): Conv2d(512, 512, kernel_size=(3, 3), stride=(1, 1), padding=(1, 1), bias=False)\n",
       "      (bn1): BatchNorm2d(512, eps=1e-05, momentum=0.1, affine=True, track_running_stats=True)\n",
       "      (relu): ReLU(inplace=True)\n",
       "      (conv2): Conv2d(512, 512, kernel_size=(3, 3), stride=(1, 1), padding=(1, 1), bias=False)\n",
       "      (bn2): BatchNorm2d(512, eps=1e-05, momentum=0.1, affine=True, track_running_stats=True)\n",
       "    )\n",
       "  )\n",
       "  (avgpool): AvgPool2d(kernel_size=7, stride=1, padding=0)\n",
       "  (fc): Linear(in_features=512, out_features=10, bias=True)\n",
       ")"
      ]
     },
     "execution_count": 60,
     "metadata": {},
     "output_type": "execute_result"
    }
   ],
   "source": [
    "model = resnet18(NUM_CLASSES)\n",
    "model.load_state_dict(torch.load('resnet.pth'))\n",
    "model.eval()"
   ]
  },
  {
   "cell_type": "code",
   "execution_count": 106,
   "id": "bdf8fef7-12af-4b9b-a834-191030115796",
   "metadata": {},
   "outputs": [],
   "source": [
    "layers=['layer3', 'layer4']\n",
    "\n",
    "mytcav = TCAV(model=model,\n",
    "              layers=layers,\n",
    "              layer_attr_method = LayerIntegratedGradients(\n",
    "                model, None, multiply_by_inputs=False))"
   ]
  },
  {
   "cell_type": "code",
   "execution_count": 75,
   "id": "3fd6a0e4-f0d8-4a9e-bf49-a905912f0ed1",
   "metadata": {},
   "outputs": [
    {
     "name": "stdout",
     "output_type": "stream",
     "text": [
      "Label: 0, Image Tensor Shape: torch.Size([980, 1, 28, 28])\n",
      "Label: 1, Image Tensor Shape: torch.Size([1135, 1, 28, 28])\n",
      "Label: 2, Image Tensor Shape: torch.Size([1032, 1, 28, 28])\n",
      "Label: 3, Image Tensor Shape: torch.Size([1010, 1, 28, 28])\n",
      "Label: 4, Image Tensor Shape: torch.Size([982, 1, 28, 28])\n",
      "Label: 5, Image Tensor Shape: torch.Size([892, 1, 28, 28])\n",
      "Label: 6, Image Tensor Shape: torch.Size([958, 1, 28, 28])\n",
      "Label: 7, Image Tensor Shape: torch.Size([1028, 1, 28, 28])\n",
      "Label: 8, Image Tensor Shape: torch.Size([974, 1, 28, 28])\n",
      "Label: 9, Image Tensor Shape: torch.Size([1009, 1, 28, 28])\n"
     ]
    }
   ],
   "source": [
    "class_images = {i: [] for i in range(10)}\n",
    "for image, label in test_dataset:\n",
    "    class_images[label].append(image)\n",
    "\n",
    "mnist_dict = {i: torch.stack(class_images[i]) for i in range(10)}\n",
    "\n",
    "for label, image in mnist_dict.items():\n",
    "    print(f\"Label: {label}, Image Tensor Shape: {image.shape}\")"
   ]
  },
  {
   "cell_type": "code",
   "execution_count": 119,
   "id": "870b1f37-5d7b-46c7-abf0-1a5212b2ddc0",
   "metadata": {},
   "outputs": [
    {
     "data": {
      "text/plain": [
       "[[Concept(0, 'concept_circle'), Concept(3, 'concept_vertical')]]"
      ]
     },
     "execution_count": 119,
     "metadata": {},
     "output_type": "execute_result"
    }
   ],
   "source": [
    "experimental_set = [[circle_concept, vertical_concept]]\n",
    "experimental_set"
   ]
  },
  {
   "cell_type": "code",
   "execution_count": 102,
   "id": "03aaa4c7-38a1-4cc8-b079-5fc4414c892f",
   "metadata": {},
   "outputs": [],
   "source": [
    "zero_tensor = mnist_dict[0][:5]"
   ]
  },
  {
   "cell_type": "code",
   "execution_count": 103,
   "id": "0b0af82f-7694-4022-a63e-ad258d63a3cd",
   "metadata": {},
   "outputs": [
    {
     "data": {
      "text/plain": [
       "torch.Size([5, 1, 28, 28])"
      ]
     },
     "execution_count": 103,
     "metadata": {},
     "output_type": "execute_result"
    }
   ],
   "source": [
    "zero_tensor.shape"
   ]
  },
  {
   "cell_type": "code",
   "execution_count": 1,
   "id": "15b09752-4c0d-40a0-9874-4a1a8f1aaad5",
   "metadata": {},
   "outputs": [
    {
     "ename": "NameError",
     "evalue": "name 'mytcav' is not defined",
     "output_type": "error",
     "traceback": [
      "\u001b[0;31m---------------------------------------------------------------------------\u001b[0m",
      "\u001b[0;31mNameError\u001b[0m                                 Traceback (most recent call last)",
      "Cell \u001b[0;32mIn[1], line 1\u001b[0m\n\u001b[0;32m----> 1\u001b[0m tcav_scores_w_random \u001b[38;5;241m=\u001b[39m mytcav\u001b[38;5;241m.\u001b[39minterpret(inputs\u001b[38;5;241m=\u001b[39mzero_tensor,\n\u001b[1;32m      2\u001b[0m                                         experimental_sets\u001b[38;5;241m=\u001b[39mexperimental_set,\n\u001b[1;32m      3\u001b[0m                                         target\u001b[38;5;241m=\u001b[39m\u001b[38;5;241m0\u001b[39m,\n\u001b[1;32m      4\u001b[0m                                         n_steps\u001b[38;5;241m=\u001b[39m\u001b[38;5;241m5\u001b[39m,\n\u001b[1;32m      5\u001b[0m                                        )\n\u001b[1;32m      6\u001b[0m tcav_scores_w_random\n",
      "\u001b[0;31mNameError\u001b[0m: name 'mytcav' is not defined"
     ]
    }
   ],
   "source": [
    "tcav_scores_w_random = mytcav.interpret(inputs=zero_tensor,\n",
    "                                        experimental_sets=experimental_set,\n",
    "                                        target=0,\n",
    "                                        n_steps=5,\n",
    "                                       )\n",
    "tcav_scores_w_random"
   ]
  },
  {
   "cell_type": "code",
   "execution_count": null,
   "id": "5ccea6e0-71fb-4178-a0dc-8840e7cdc318",
   "metadata": {},
   "outputs": [],
   "source": []
  },
  {
   "cell_type": "code",
   "execution_count": null,
   "id": "cded29d6-05a9-447f-b3fa-c06defbb1b32",
   "metadata": {},
   "outputs": [],
   "source": []
  }
 ],
 "metadata": {
  "kernelspec": {
   "display_name": "EEC289",
   "language": "python",
   "name": "eec289"
  },
  "language_info": {
   "codemirror_mode": {
    "name": "ipython",
    "version": 3
   },
   "file_extension": ".py",
   "mimetype": "text/x-python",
   "name": "python",
   "nbconvert_exporter": "python",
   "pygments_lexer": "ipython3",
   "version": "3.12.3"
  }
 },
 "nbformat": 4,
 "nbformat_minor": 5
}
